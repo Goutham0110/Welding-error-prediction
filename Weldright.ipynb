{
  "cells": [
    {
      "cell_type": "markdown",
      "metadata": {
        "id": "nWE4dGVLty8W"
      },
      "source": [
        "# **Welding Defect Prediction using Weld Parameters**"
      ]
    },
    {
      "cell_type": "markdown",
      "metadata": {
        "id": "d_ppzqvCwbzN"
      },
      "source": [
        "***METHOD - I (ENSEMBLING TECHNIQUE)***"
      ]
    },
    {
      "cell_type": "code",
      "execution_count": null,
      "metadata": {
        "colab": {
          "base_uri": "https://localhost:8080/"
        },
        "id": "VY5lWRunpWiK",
        "outputId": "cc7f499b-f23e-4622-fbd7-213a0fd192c7"
      },
      "outputs": [
        {
          "name": "stdout",
          "output_type": "stream",
          "text": [
            "Drive already mounted at /content/drive; to attempt to forcibly remount, call drive.mount(\"/content/drive\", force_remount=True).\n"
          ]
        }
      ],
      "source": [
        "from google.colab import drive\n",
        "drive.mount('/content/drive')\n",
        "import pandas as pd\n",
        "import numpy as np"
      ]
    },
    {
      "cell_type": "code",
      "execution_count": null,
      "metadata": {
        "colab": {
          "base_uri": "https://localhost:8080/"
        },
        "id": "X3BatWmQrlWU",
        "outputId": "f608deaa-1215-4b19-ca7f-1bd7221198fa"
      },
      "outputs": [
        {
          "data": {
            "text/plain": [
              "No Defect               819552\n",
              "Tungsten Inclusion        4600\n",
              "Porosity                  1138\n",
              "No Defect77                220\n",
              "No Defect78                211\n",
              "No Defect76                158\n",
              "No Defect79                144\n",
              "No Defect75                140\n",
              "No Defect80                121\n",
              "No Defect73                108\n",
              "No Defect0                 106\n",
              "No Defect72                104\n",
              "No Defect81                102\n",
              "No Defect71                 93\n",
              "No Defect74                 81\n",
              "No Defect83                 77\n",
              "No Defect70                 67\n",
              "No Defect84                 62\n",
              "No Defect67                 59\n",
              "No Defect65                 51\n",
              "No Defect82                 48\n",
              "No Defect68                 46\n",
              "No Defect69                 45\n",
              "No Defect66                 40\n",
              "No Defect64                 31\n",
              "No Defect63                 24\n",
              "No Defect85                 21\n",
              "No Defect61                 15\n",
              "No Defect58                  9\n",
              "No Defect86                  7\n",
              "No Defect62                  7\n",
              "No Defect87                  7\n",
              "No Defect90                  7\n",
              "No Defect57                  6\n",
              "No Defect60                  4\n",
              "No Defect59                  4\n",
              "No Defect88                  2\n",
              "Tungsten Inclusion78         2\n",
              "Tungsten Inclusion77         2\n",
              "Porosity86                   1\n",
              "Porosity71                   1\n",
              "Tungsten Inclusion76         1\n",
              "Tungsten Inclusion75         1\n",
              "Tungsten Inclusion67         1\n",
              "Tungsten Inclusion72         1\n",
              "Tungsten Inclusion71         1\n",
              "Tungsten Inclusion80         1\n",
              "Porosity76                   1\n",
              "No Defect40                  1\n",
              "Porosity80                   1\n",
              "Porosity75                   1\n",
              "No Defect99                  1\n",
              "Name: Defect, dtype: int64"
            ]
          },
          "execution_count": 52,
          "metadata": {},
          "output_type": "execute_result"
        }
      ],
      "source": [
        "df=pd.read_excel(\"/content/drive/MyDrive/WeldRight Dataset.xlsx\")\n",
        "df[['Employee Code','Machine','Production','Order Operation No','Current','Humidity','Temperature','Flow','Job Temp','Voltage','Defect']]\n",
        "df.drop(['Employee Code','Machine','Production','Order Operation No','Date','Time'],axis='columns',inplace=True)\n",
        "df[['Current','Humidity','Temperature','Flow','Job Temp','Voltage','Defect']]\n",
        "new_df=df.drop([0], axis=0)\n",
        "new_df.dropna(how='any', axis=1, inplace=True)\n",
        "new_df.Defect.value_counts()"
      ]
    },
    {
      "cell_type": "markdown",
      "metadata": {
        "id": "5bfvg9lqvzps"
      },
      "source": [
        "**Removing Columns with improper Defect Information**"
      ]
    },
    {
      "cell_type": "code",
      "execution_count": null,
      "metadata": {
        "id": "5UOwsJbYUON_"
      },
      "outputs": [],
      "source": [
        "df1 = new_df[new_df.Defect=='No Defect']\n",
        "df2 = new_df[new_df.Defect=='Porosity']\n",
        "df3 = new_df[new_df.Defect=='Tungsten Inclusion']\n",
        "fin_ds = pd.concat([df1, df2, df3], axis=0)"
      ]
    },
    {
      "cell_type": "markdown",
      "metadata": {
        "id": "YBLRkMEZwHCk"
      },
      "source": [
        "**Converting object data type to numeric for further processing**"
      ]
    },
    {
      "cell_type": "code",
      "execution_count": null,
      "metadata": {
        "colab": {
          "base_uri": "https://localhost:8080/"
        },
        "id": "cmTEpklKfFFV",
        "outputId": "bf07d51c-f337-439f-9b34-33135180995b"
      },
      "outputs": [
        {
          "data": {
            "text/plain": [
              "Humidity         int64\n",
              "Temperature      int64\n",
              "Flow           float64\n",
              "Job Temp       float64\n",
              "Voltage        float64\n",
              "Defect          object\n",
              "dtype: object"
            ]
          },
          "execution_count": 54,
          "metadata": {},
          "output_type": "execute_result"
        }
      ],
      "source": [
        "fin_ds['Humidity'] = pd.to_numeric(fin_ds['Humidity'])\n",
        "fin_ds['Temperature'] = pd.to_numeric(fin_ds['Temperature'])\n",
        "fin_ds['Flow'] = pd.to_numeric(fin_ds['Flow'])\n",
        "fin_ds['Job Temp'] = pd.to_numeric(fin_ds['Job Temp'])\n",
        "fin_ds['Voltage'] = pd.to_numeric(fin_ds['Voltage'])\n",
        "fin_ds.dtypes"
      ]
    },
    {
      "cell_type": "markdown",
      "metadata": {
        "id": "cUHpuCbewX36"
      },
      "source": [
        "**Dummying the 'Tungsten Inclusion' and 'Porosity' with 1**"
      ]
    },
    {
      "cell_type": "code",
      "execution_count": null,
      "metadata": {
        "id": "o5D7MIMx1rPJ"
      },
      "outputs": [],
      "source": [
        "df2 = pd.get_dummies(data=fin_ds, columns=['Defect'])\n",
        "fin_ds['Defect'] = fin_ds['Defect'].str.replace('Tungsten Inclusion','1')\n",
        "fin_ds['Defect'] = fin_ds['Defect'].str.replace('Porosity','1')\n",
        "fin_ds['Defect'] = fin_ds['Defect'].str.replace('No Defect','0')"
      ]
    },
    {
      "cell_type": "markdown",
      "metadata": {
        "id": "vPMUtCI-w5EQ"
      },
      "source": [
        "**Scaling the Input Columns**"
      ]
    },
    {
      "cell_type": "code",
      "execution_count": null,
      "metadata": {
        "id": "vaBXtOt-gePD"
      },
      "outputs": [],
      "source": [
        "fin_ds['Defect'] = pd.to_numeric(fin_ds['Defect'])\n",
        "fin_ds.dtypes\n",
        "cols_to_scale = ['Humidity','Temperature','Flow','Job Temp','Voltage']\n",
        "from sklearn.preprocessing import MinMaxScaler\n",
        "scaler = MinMaxScaler()\n",
        "fin_ds[cols_to_scale] = scaler.fit_transform(fin_ds[cols_to_scale])"
      ]
    },
    {
      "cell_type": "code",
      "execution_count": null,
      "metadata": {
        "colab": {
          "base_uri": "https://localhost:8080/"
        },
        "id": "KXnwyZRK1Ojj",
        "outputId": "24ce3af8-10c3-4bdc-bbaf-7b685e67aaf9"
      },
      "outputs": [
        {
          "data": {
            "text/plain": [
              "(825290, 6)"
            ]
          },
          "execution_count": 57,
          "metadata": {},
          "output_type": "execute_result"
        }
      ],
      "source": [
        "X = fin_ds.drop('Defect',axis='columns')\n",
        "Y = fin_ds.Defect\n",
        "fin_ds.shape"
      ]
    },
    {
      "cell_type": "markdown",
      "metadata": {
        "id": "ZeHf-tmwxzGp"
      },
      "source": [
        "**Train and Test Splitting the Whole Dataset**"
      ]
    },
    {
      "cell_type": "code",
      "execution_count": null,
      "metadata": {
        "id": "8r41Hvjwl9LM"
      },
      "outputs": [],
      "source": [
        "from sklearn.model_selection import train_test_split\n",
        "X_TRAIN, X_TEST, Y_TRAIN, Y_TEST = train_test_split(X, Y, test_size=0.3, random_state=15, stratify=Y)\n",
        "df3_class0 = fin_ds[fin_ds.Defect==0]\n",
        "df3_class1 = fin_ds[fin_ds.Defect==1]"
      ]
    },
    {
      "cell_type": "code",
      "execution_count": null,
      "metadata": {
        "id": "uXlMqBfTerty"
      },
      "outputs": [],
      "source": [
        "from sklearn.ensemble import RandomForestClassifier\n",
        "from sklearn.metrics import confusion_matrix , classification_report\n",
        "import seaborn as sn\n",
        "import matplotlib.pyplot as plt\n",
        "%matplotlib inline"
      ]
    },
    {
      "cell_type": "markdown",
      "metadata": {
        "id": "tCCWuX7Ox-ak"
      },
      "source": [
        "**User Defined Function for Splitting the Train batch to Ensemble the Imbalanced Data**"
      ]
    },
    {
      "cell_type": "code",
      "execution_count": null,
      "metadata": {
        "id": "TzhxbSrq5YYP"
      },
      "outputs": [],
      "source": [
        "def get_train_batch(df_majority, df_minority, start, end):\n",
        "    df = pd.concat([df_majority[start:end], df_minority], axis=0)\n",
        "    XX = df.drop('Defect', axis='columns')\n",
        "    YY = df.Defect\n",
        "    x_train, x_test, y_train, y_test = train_test_split(XX, YY, test_size=0.3, random_state=15,stratify=YY)\n",
        "    return x_train, y_train, x_test, y_test  "
      ]
    },
    {
      "cell_type": "code",
      "execution_count": null,
      "metadata": {
        "id": "OysCtsguEXMG"
      },
      "outputs": [],
      "source": [
        "def randomf(x_Train, y_Train, x_TEST, y_TEST,a):\n",
        "    model = RandomForestClassifier(n_estimators=100)\n",
        "    pred = model.fit(x_Train, y_Train)\n",
        "    y_preds = model.predict(x_TEST)\n",
        "    y_preds = np.round(y_preds)\n",
        "    print(\"\\nClassification Report: \\n\", classification_report(y_TEST, y_preds))\n",
        "    cm = confusion_matrix(y_TEST, y_preds)\n",
        "    import matplotlib as mpl\n",
        "    mpl.rc('figure', max_open_warning = 0)\n",
        "    plt.figure(figsize = (5,2))\n",
        "    sn.heatmap(cm, annot=True)\n",
        "    plt.xlabel('Predicted')\n",
        "    plt.ylabel('Truth')\n",
        "    return y_preds,cm"
      ]
    },
    {
      "cell_type": "markdown",
      "metadata": {
        "id": "roh-kf1ZzDJN"
      },
      "source": [
        "**Looping over all the Ensembled models to find a model with minimal 'False Positive' and 'False Negative' values**"
      ]
    },
    {
      "cell_type": "code",
      "execution_count": null,
      "metadata": {
        "id": "HJEgqK77i97P"
      },
      "outputs": [],
      "source": [
        "start=0\n",
        "t=4017\n",
        "end=0\n",
        "minp=10\n",
        "minn=10\n",
        "itr=0\n",
        "for i in range(143):\n",
        "  end+=t\n",
        "  xtr,ytr,xts,yts =get_train_batch(df3_class0, df3_class1,start,end)\n",
        "  print(\"\\n\\n\",start,end)\n",
        "  g,cm =randomf(xtr, ytr, xts, yts,i)\n",
        "  if(minp>=cm[0][1] and minn>=cm[1][0]): \n",
        "    minp=cm[0][1]\n",
        "    minn=cm[1][0]\n",
        "    itr=i\n",
        "  print(i,\"  \",cm[0][1], cm[1][0])\n",
        "  start=end"
      ]
    },
    {
      "cell_type": "markdown",
      "metadata": {
        "id": "Hmwt4pat52iC"
      },
      "source": [
        "**Finding the Best Model Iteration**"
      ]
    },
    {
      "cell_type": "code",
      "execution_count": null,
      "metadata": {
        "colab": {
          "base_uri": "https://localhost:8080/"
        },
        "id": "0dxnT71r2VvV",
        "outputId": "ff12b669-727a-493e-8b41-b64f0b889541"
      },
      "outputs": [
        {
          "name": "stdout",
          "output_type": "stream",
          "text": [
            "0 3 27\n"
          ]
        }
      ],
      "source": [
        "print(minp,minn,itr)"
      ]
    },
    {
      "cell_type": "markdown",
      "metadata": {
        "id": "-jdcclb50EWC"
      },
      "source": [
        "**Extracting the Trained Model for best performing training set alone.**"
      ]
    },
    {
      "cell_type": "code",
      "execution_count": null,
      "metadata": {
        "colab": {
          "base_uri": "https://localhost:8080/",
          "height": 560
        },
        "id": "aOma2hAZz2Ai",
        "outputId": "46dd810d-9198-42f8-a3e3-59f3e273402a"
      },
      "outputs": [
        {
          "name": "stdout",
          "output_type": "stream",
          "text": [
            "\n",
            "Classification Report: \n",
            "               precision    recall  f1-score   support\n",
            "\n",
            "           0       1.00      1.00      1.00      1205\n",
            "           1       1.00      1.00      1.00      1722\n",
            "\n",
            "    accuracy                           1.00      2927\n",
            "   macro avg       1.00      1.00      1.00      2927\n",
            "weighted avg       1.00      1.00      1.00      2927\n",
            "\n",
            "[[1205    0]\n",
            " [   3 1719]]\n"
          ]
        },
        {
          "data": {
            "image/png": "[encoded data removed]",
            "text/plain": [
              "<Figure size 576x360 with 2 Axes>"
            ]
          },
          "metadata": {},
          "output_type": "display_data"
        }
      ],
      "source": [
        "DF = pd.concat([df3_class0[285207:289224], df3_class1], axis=0)\n",
        "xx = DF.drop('Defect', axis='columns')\n",
        "yy = DF.Defect\n",
        "x__train, x__test, y__train, y__test = train_test_split(xx, yy, test_size=0.3, random_state=15,stratify=yy)\n",
        "model1 = RandomForestClassifier(n_estimators=100)\n",
        "prediction = model1.fit(x__train, y__train)\n",
        "y_preds = model1.predict(x__test)\n",
        "y_preds = np.round(y_preds)\n",
        "print(\"\\nClassification Report: \\n\", classification_report(y__test, y_preds))\n",
        "cm = confusion_matrix(y__test, y_preds)\n",
        "plt.figure(figsize = (8,5))\n",
        "sn.heatmap(cm, annot=True)\n",
        "plt.xlabel('Predicted')\n",
        "plt.ylabel('Truth')\n",
        "print(cm)"
      ]
    },
    {
      "cell_type": "markdown",
      "metadata": {
        "id": "ynG_dM-30Tgv"
      },
      "source": [
        "**Testing the Ensembled Trained Model with the entire test sets to analyse the model performance**"
      ]
    },
    {
      "cell_type": "code",
      "execution_count": null,
      "metadata": {
        "colab": {
          "base_uri": "https://localhost:8080/"
        },
        "id": "dmZPezBt0SwM",
        "outputId": "0f10c29d-0b94-46d4-fdce-97ee385ffd98"
      },
      "outputs": [
        {
          "name": "stdout",
          "output_type": "stream",
          "text": [
            "\n",
            "Classification Report: \n",
            "               precision    recall  f1-score   support\n",
            "\n",
            "           0       1.00      0.01      0.01    245866\n",
            "           1       0.01      1.00      0.01      1721\n",
            "\n",
            "    accuracy                           0.01    247587\n",
            "   macro avg       0.50      0.50      0.01    247587\n",
            "weighted avg       0.99      0.01      0.01    247587\n",
            "\n",
            "[[  1647 244219]\n",
            " [     1   1720]]\n"
          ]
        },
        {
          "data": {
            "image/png": "[encoded data removed]",
            "text/plain": [
              "<Figure size 576x360 with 2 Axes>"
            ]
          },
          "metadata": {},
          "output_type": "display_data"
        }
      ],
      "source": [
        "Y_preds = model1.predict(X_TEST)\n",
        "Y_preds = np.round(Y_preds)\n",
        "print(\"\\nClassification Report: \\n\", classification_report(Y_TEST, Y_preds))\n",
        "cm = confusion_matrix(Y_TEST, Y_preds)\n",
        "plt.figure(figsize = (8,5))\n",
        "sn.heatmap(cm, annot=True)\n",
        "plt.xlabel('Predicted')\n",
        "plt.ylabel('Truth')\n",
        "print(cm)"
      ]
    },
    {
      "cell_type": "markdown",
      "metadata": {
        "id": "aJghfmvF1F4E"
      },
      "source": [
        "***METHOD - II (SYNTHETIC MINORITY OVERSAMPLING TECHNIQUE)***"
      ]
    },
    {
      "cell_type": "markdown",
      "metadata": {
        "id": "_LJSFmXA1ZIz"
      },
      "source": [
        "**Using SMOTE Technique to balance the imbalanced data**"
      ]
    },
    {
      "cell_type": "code",
      "execution_count": null,
      "metadata": {
        "colab": {
          "background_save": true
        },
        "id": "r-FrMIyWi_zz",
        "outputId": "4c67b495-e829-4fc5-a9fd-2cd00bff2947"
      },
      "outputs": [
        {
          "name": "stdout",
          "output_type": "stream",
          "text": [
            "\n",
            "Classification Report: \n",
            "               precision    recall  f1-score   support\n",
            "\n",
            "           0       0.99      0.99      0.99    163911\n",
            "           1       0.99      0.99      0.99    163910\n",
            "\n",
            "    accuracy                           0.99    327821\n",
            "   macro avg       0.99      0.99      0.99    327821\n",
            "weighted avg       0.99      0.99      0.99    327821\n",
            "\n",
            "[[162931    980]\n",
            " [  2016 161894]]\n"
          ]
        },
        {
          "data": {
            "text/plain": [
              "Text(51.0, 0.5, 'Truth')"
            ]
          },
          "execution_count": 66,
          "metadata": {},
          "output_type": "execute_result"
        },
        {
          "data": {
            "image/png": "[encoded data removed]",
            "text/plain": [
              "<Figure size 576x360 with 2 Axes>"
            ]
          },
          "metadata": {},
          "output_type": "display_data"
        }
      ],
      "source": [
        "from imblearn.over_sampling import SMOTE\n",
        "smote = SMOTE(sampling_strategy='minority')\n",
        "X_sm, y_sm = smote.fit_resample(X, Y)\n",
        "X_train, X_test, y_train, y_test = train_test_split(X_sm, y_sm, test_size=0.2, random_state=15, stratify=y_sm)\n",
        "model = RandomForestClassifier(n_estimators=200)\n",
        "pred = model.fit(X_train, y_train)\n",
        "y_preds = model.predict(X_test)\n",
        "y_preds = np.round(y_preds)\n",
        "print(\"\\nClassification Report: \\n\", classification_report(y_test, y_preds))\n",
        "cm1 = confusion_matrix(y_test, y_preds)\n",
        "print(cm1)\n",
        "plt.figure(figsize = (8,5))\n",
        "sn.heatmap(cm1, annot=True)\n",
        "plt.xlabel('Predicted')\n",
        "plt.ylabel('Truth')"
      ]
    },
    {
      "cell_type": "code",
      "execution_count": null,
      "metadata": {
        "colab": {
          "background_save": true
        },
        "id": "kQVMHW0NnS2F",
        "outputId": "36e85d92-ffbd-4fb7-ca56-412825467e3b"
      },
      "outputs": [
        {
          "data": {
            "text/plain": [
              "(1639104, 5)"
            ]
          },
          "execution_count": 67,
          "metadata": {},
          "output_type": "execute_result"
        }
      ],
      "source": [
        "X_sm.shape"
      ]
    },
    {
      "cell_type": "code",
      "execution_count": null,
      "metadata": {
        "colab": {
          "background_save": true
        },
        "id": "IK1cSRBFpJPF",
        "outputId": "903c4c4d-143d-4b6f-c984-bceaf0307b51"
      },
      "outputs": [
        {
          "data": {
            "text/plain": [
              "(1639104,)"
            ]
          },
          "execution_count": 68,
          "metadata": {},
          "output_type": "execute_result"
        }
      ],
      "source": [
        "y_sm.shape"
      ]
    },
    {
      "cell_type": "code",
      "execution_count": null,
      "metadata": {
        "id": "axHEPjUA7KeJ"
      },
      "outputs": [],
      "source": [
        "from sklearn.neighbors import KNeighborsClassifier"
      ]
    },
    {
      "cell_type": "code",
      "execution_count": null,
      "metadata": {
        "id": "IAgYCmvu7OOh"
      },
      "outputs": [],
      "source": [
        "neigh = KNeighborsClassifier(n_neighbors=1)"
      ]
    },
    {
      "cell_type": "code",
      "execution_count": null,
      "metadata": {
        "colab": {
          "base_uri": "https://localhost:8080/"
        },
        "id": "lls7z6Nd7PcQ",
        "outputId": "563987bf-68fc-43ca-f9dd-d60cdac1e996"
      },
      "outputs": [
        {
          "output_type": "execute_result",
          "data": {
            "text/plain": [
              "KNeighborsClassifier(n_neighbors=1)"
            ]
          },
          "metadata": {},
          "execution_count": 96
        }
      ],
      "source": [
        "neigh.fit(X_train, y_train)"
      ]
    },
    {
      "cell_type": "code",
      "execution_count": null,
      "metadata": {
        "colab": {
          "base_uri": "https://localhost:8080/",
          "height": 577
        },
        "id": "JVAMz62cBYa5",
        "outputId": "d665ebbc-af30-4aa6-f2a9-4324ac142d44"
      },
      "outputs": [
        {
          "output_type": "stream",
          "name": "stdout",
          "text": [
            "\n",
            "Classification Report: \n",
            "               precision    recall  f1-score   support\n",
            "\n",
            "           0       0.99      0.97      0.98    163911\n",
            "           1       0.97      0.99      0.98    163910\n",
            "\n",
            "    accuracy                           0.98    327821\n",
            "   macro avg       0.98      0.98      0.98    327821\n",
            "weighted avg       0.98      0.98      0.98    327821\n",
            "\n",
            "[[158560   5351]\n",
            " [  1914 161996]]\n"
          ]
        },
        {
          "output_type": "execute_result",
          "data": {
            "text/plain": [
              "Text(51.0, 0.5, 'Truth')"
            ]
          },
          "metadata": {},
          "execution_count": 97
        },
        {
          "output_type": "display_data",
          "data": {
            "text/plain": [
              "<Figure size 576x360 with 2 Axes>"
            ],
            "image/png": "[encoded data removed]"
          },
          "metadata": {
            "needs_background": "light"
          }
        }
      ],
      "source": [
        "Y_preds = neigh.predict(X_test)\n",
        "Y_preds = np.round(Y_preds)\n",
        "print(\"\\nClassification Report: \\n\", classification_report(y_test, Y_preds))\n",
        "cm2 = confusion_matrix(y_test, Y_preds)\n",
        "print(cm2)\n",
        "plt.figure(figsize = (8,5))\n",
        "sn.heatmap(cm2, annot=True)\n",
        "plt.xlabel('Predicted')\n",
        "plt.ylabel('Truth')"
      ]
    },
    {
      "cell_type": "code",
      "source": [
        "from sklearn.naive_bayes import GaussianNB\n",
        "gnb = GaussianNB()\n",
        "y_Preds = gnb.fit(X_train, y_train).predict(X_test)\n",
        "Y_predS = np.round(y_Preds)\n",
        "print(\"\\nClassification Report: \\n\", classification_report(y_test, Y_predS))\n",
        "cm3 = confusion_matrix(y_test, Y_predS)\n",
        "print(cm3)\n",
        "plt.figure(figsize = (8,5))\n",
        "sn.heatmap(cm3, annot=True)\n",
        "plt.xlabel('Predicted')\n",
        "plt.ylabel('Truth')"
      ],
      "metadata": {
        "colab": {
          "base_uri": "https://localhost:8080/",
          "height": 577
        },
        "id": "H8nIlvhuYXUp",
        "outputId": "f145062c-6185-4f39-f363-533a1ea2b7e1"
      },
      "execution_count": null,
      "outputs": [
        {
          "output_type": "stream",
          "name": "stdout",
          "text": [
            "\n",
            "Classification Report: \n",
            "               precision    recall  f1-score   support\n",
            "\n",
            "           0       0.63      0.70      0.66    163911\n",
            "           1       0.66      0.59      0.62    163910\n",
            "\n",
            "    accuracy                           0.64    327821\n",
            "   macro avg       0.65      0.64      0.64    327821\n",
            "weighted avg       0.65      0.64      0.64    327821\n",
            "\n",
            "[[114747  49164]\n",
            " [ 67637  96273]]\n"
          ]
        },
        {
          "output_type": "execute_result",
          "data": {
            "text/plain": [
              "Text(51.0, 0.5, 'Truth')"
            ]
          },
          "metadata": {},
          "execution_count": 98
        },
        {
          "output_type": "display_data",
          "data": {
            "text/plain": [
              "<Figure size 576x360 with 2 Axes>"
            ],
            "image/png": "[encoded data removed]"
          },
          "metadata": {
            "needs_background": "light"
          }
        }
      ]
    }
  ],
  "metadata": {
    "colab": {
      "provenance": []
    },
    "gpuClass": "standard",
    "kernelspec": {
      "display_name": "Python 3",
      "name": "python3"
    },
    "language_info": {
      "name": "python"
    }
  },
  "nbformat": 4,
  "nbformat_minor": 0
}
